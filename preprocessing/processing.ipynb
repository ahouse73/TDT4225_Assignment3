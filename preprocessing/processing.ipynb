{
 "cells": [
  {
   "cell_type": "code",
   "execution_count": 26,
   "metadata": {},
   "outputs": [
    {
     "name": "stdout",
     "output_type": "stream",
     "text": [
      "The autoreload extension is already loaded. To reload it, use:\n",
      "  %reload_ext autoreload\n"
     ]
    }
   ],
   "source": [
    "%load_ext autoreload"
   ]
  },
  {
   "cell_type": "code",
   "execution_count": 61,
   "metadata": {},
   "outputs": [],
   "source": [
    "\n",
    "%autoreload\n",
    "from DbConnector import DbConnector\n",
    "from decouple import config\n",
    "from upload_data import get_all_user_data, get_trackpoints_as_df, get_labels_as_df\n",
    "import os\n",
    "from json import loads"
   ]
  },
  {
   "cell_type": "code",
   "execution_count": 8,
   "metadata": {},
   "outputs": [
    {
     "name": "stdout",
     "output_type": "stream",
     "text": [
      "You are connected to the database: test_db\n",
      "-----------------------------------------------\n",
      "\n"
     ]
    }
   ],
   "source": [
    "connection = DbConnector(PASSWORD=config('USERPWD'))\n",
    "client = connection.client\n",
    "db = connection.db"
   ]
  },
  {
   "cell_type": "code",
   "execution_count": 30,
   "metadata": {},
   "outputs": [],
   "source": [
    "users = get_all_user_data('dataset/dataset/Data')"
   ]
  },
  {
   "cell_type": "markdown",
   "metadata": {},
   "source": [
    "1. import all user ones\n",
    "2. per activity\n",
    "   1. upload all trackpoints with user id and random id\n",
    "   2. upload the activity with references to trackpoint"
   ]
  },
  {
   "cell_type": "code",
   "execution_count": 37,
   "metadata": {},
   "outputs": [],
   "source": [
    "dataset_base_path = 'dataset/dataset'"
   ]
  },
  {
   "cell_type": "code",
   "execution_count": 48,
   "metadata": {},
   "outputs": [],
   "source": [
    "def create_coll(collection_name):\n",
    "    collection = db.create_collection(collection_name)    \n",
    "    print('Created collection: ', collection)\n",
    "\n",
    "def drop_coll(collection_name):\n",
    "    collection = db[collection_name]\n",
    "    collection.drop()"
   ]
  },
  {
   "cell_type": "code",
   "execution_count": 69,
   "metadata": {},
   "outputs": [],
   "source": [
    "def get_all_user_data(data_path):\n",
    "    # create for each user entry in list to insert them all in once\n",
    "    all_users = os.listdir(data_path)\n",
    "    # transform it in tuple with (id, has_labels) set has_labels to False for all\n",
    "    all_users = [{\n",
    "        '_id': u,\n",
    "        'has_labels': False\n",
    "    } for u in all_users]\n",
    "    with open(os.path.join(dataset_base_path, 'labeled_ids.txt')) as f:\n",
    "        for line in f.readlines():\n",
    "            # update all entries with idx in file to has_labels = True\n",
    "            all_users[int(line.strip())]['has_labels'] = True\n",
    "    \n",
    "    return all_users"
   ]
  },
  {
   "cell_type": "code",
   "execution_count": 71,
   "metadata": {},
   "outputs": [],
   "source": [
    "def upload_batch(json_list, collection_name):\n",
    "    collection = db[collection_name]\n",
    "    return collection.insert_many(json_list).inserted_ids"
   ]
  },
  {
   "cell_type": "code",
   "execution_count": 64,
   "metadata": {},
   "outputs": [],
   "source": [
    "def upload_single_activity(activity_json):\n",
    "    collection = db['Activity']\n",
    "    collection.insert_one(activity_json)"
   ]
  },
  {
   "cell_type": "code",
   "execution_count": 74,
   "metadata": {},
   "outputs": [
    {
     "name": "stdout",
     "output_type": "stream",
     "text": [
      "Created collection:  Collection(Database(MongoClient(host=['tdt4225-29.idi.ntnu.no:27017'], document_class=dict, tz_aware=False, connect=True), 'test_db'), 'User')\n",
      "Created collection:  Collection(Database(MongoClient(host=['tdt4225-29.idi.ntnu.no:27017'], document_class=dict, tz_aware=False, connect=True), 'test_db'), 'Activity')\n",
      "Created collection:  Collection(Database(MongoClient(host=['tdt4225-29.idi.ntnu.no:27017'], document_class=dict, tz_aware=False, connect=True), 'test_db'), 'TrackPoint')\n",
      "User 000\n",
      "User 001\n",
      "User 002\n",
      "User 003\n",
      "User 004\n",
      "User 005\n",
      "User 006\n",
      "User 007\n",
      "User 008\n",
      "User 009\n",
      "User 010\n"
     ]
    },
    {
     "ename": "KeyboardInterrupt",
     "evalue": "",
     "output_type": "error",
     "traceback": [
      "\u001b[1;31m---------------------------------------------------------------------------\u001b[0m",
      "\u001b[1;31mKeyboardInterrupt\u001b[0m                         Traceback (most recent call last)",
      "\u001b[1;32mc:\\Users\\AHous\\Programmieren\\Uni\\NTNU\\TDT4225 - Very Large, Distributed Data\\Assignment 3\\TDT4225_Assignment3\\preprocessing\\processing.ipynb Cell 11\u001b[0m line \u001b[0;36m3\n\u001b[0;32m     <a href='vscode-notebook-cell:/c%3A/Users/AHous/Programmieren/Uni/NTNU/TDT4225%20-%20Very%20Large%2C%20Distributed%20Data/Assignment%203/TDT4225_Assignment3/preprocessing/processing.ipynb#X10sZmlsZQ%3D%3D?line=31'>32</a>\u001b[0m df_trackpoints[\u001b[39m'\u001b[39m\u001b[39muser_id\u001b[39m\u001b[39m'\u001b[39m] \u001b[39m=\u001b[39m user\n\u001b[0;32m     <a href='vscode-notebook-cell:/c%3A/Users/AHous/Programmieren/Uni/NTNU/TDT4225%20-%20Very%20Large%2C%20Distributed%20Data/Assignment%203/TDT4225_Assignment3/preprocessing/processing.ipynb#X10sZmlsZQ%3D%3D?line=32'>33</a>\u001b[0m df_trackpoints \u001b[39m=\u001b[39m df_trackpoints\u001b[39m.\u001b[39mreindex(columns\u001b[39m=\u001b[39m[\u001b[39m'\u001b[39m\u001b[39muser_id\u001b[39m\u001b[39m'\u001b[39m, \u001b[39m'\u001b[39m\u001b[39mLatitude\u001b[39m\u001b[39m'\u001b[39m, \u001b[39m'\u001b[39m\u001b[39mLongitude\u001b[39m\u001b[39m'\u001b[39m, \u001b[39m'\u001b[39m\u001b[39mAltitude\u001b[39m\u001b[39m'\u001b[39m, \u001b[39m'\u001b[39m\u001b[39mdate_days\u001b[39m\u001b[39m'\u001b[39m, \u001b[39m'\u001b[39m\u001b[39mDate\u001b[39m\u001b[39m'\u001b[39m])\n\u001b[1;32m---> <a href='vscode-notebook-cell:/c%3A/Users/AHous/Programmieren/Uni/NTNU/TDT4225%20-%20Very%20Large%2C%20Distributed%20Data/Assignment%203/TDT4225_Assignment3/preprocessing/processing.ipynb#X10sZmlsZQ%3D%3D?line=33'>34</a>\u001b[0m inserted_batch_ids \u001b[39m=\u001b[39m upload_batch(collection_name\u001b[39m=\u001b[39;49m\u001b[39m'\u001b[39;49m\u001b[39mActivity\u001b[39;49m\u001b[39m'\u001b[39;49m, json_list\u001b[39m=\u001b[39;49mloads(df_trackpoints\u001b[39m.\u001b[39;49mto_json(orient\u001b[39m=\u001b[39;49m\u001b[39m\"\u001b[39;49m\u001b[39mrecords\u001b[39;49m\u001b[39m\"\u001b[39;49m, date_format\u001b[39m=\u001b[39;49m\u001b[39m'\u001b[39;49m\u001b[39miso\u001b[39;49m\u001b[39m'\u001b[39;49m)))\n\u001b[0;32m     <a href='vscode-notebook-cell:/c%3A/Users/AHous/Programmieren/Uni/NTNU/TDT4225%20-%20Very%20Large%2C%20Distributed%20Data/Assignment%203/TDT4225_Assignment3/preprocessing/processing.ipynb#X10sZmlsZQ%3D%3D?line=35'>36</a>\u001b[0m activity_json \u001b[39m=\u001b[39m {\n\u001b[0;32m     <a href='vscode-notebook-cell:/c%3A/Users/AHous/Programmieren/Uni/NTNU/TDT4225%20-%20Very%20Large%2C%20Distributed%20Data/Assignment%203/TDT4225_Assignment3/preprocessing/processing.ipynb#X10sZmlsZQ%3D%3D?line=36'>37</a>\u001b[0m     \u001b[39m'\u001b[39m\u001b[39muser_id\u001b[39m\u001b[39m'\u001b[39m: user,\n\u001b[0;32m     <a href='vscode-notebook-cell:/c%3A/Users/AHous/Programmieren/Uni/NTNU/TDT4225%20-%20Very%20Large%2C%20Distributed%20Data/Assignment%203/TDT4225_Assignment3/preprocessing/processing.ipynb#X10sZmlsZQ%3D%3D?line=37'>38</a>\u001b[0m     \u001b[39m'\u001b[39m\u001b[39mtransportation_label\u001b[39m\u001b[39m'\u001b[39m: transportation_label,\n\u001b[1;32m   (...)\u001b[0m\n\u001b[0;32m     <a href='vscode-notebook-cell:/c%3A/Users/AHous/Programmieren/Uni/NTNU/TDT4225%20-%20Very%20Large%2C%20Distributed%20Data/Assignment%203/TDT4225_Assignment3/preprocessing/processing.ipynb#X10sZmlsZQ%3D%3D?line=40'>41</a>\u001b[0m     \u001b[39m'\u001b[39m\u001b[39mtrackpoints\u001b[39m\u001b[39m'\u001b[39m: inserted_batch_ids\n\u001b[0;32m     <a href='vscode-notebook-cell:/c%3A/Users/AHous/Programmieren/Uni/NTNU/TDT4225%20-%20Very%20Large%2C%20Distributed%20Data/Assignment%203/TDT4225_Assignment3/preprocessing/processing.ipynb#X10sZmlsZQ%3D%3D?line=41'>42</a>\u001b[0m }\n\u001b[0;32m     <a href='vscode-notebook-cell:/c%3A/Users/AHous/Programmieren/Uni/NTNU/TDT4225%20-%20Very%20Large%2C%20Distributed%20Data/Assignment%203/TDT4225_Assignment3/preprocessing/processing.ipynb#X10sZmlsZQ%3D%3D?line=42'>43</a>\u001b[0m upload_single_activity(activity_json)\n",
      "\u001b[1;32mc:\\Users\\AHous\\Programmieren\\Uni\\NTNU\\TDT4225 - Very Large, Distributed Data\\Assignment 3\\TDT4225_Assignment3\\preprocessing\\processing.ipynb Cell 11\u001b[0m line \u001b[0;36m3\n\u001b[0;32m      <a href='vscode-notebook-cell:/c%3A/Users/AHous/Programmieren/Uni/NTNU/TDT4225%20-%20Very%20Large%2C%20Distributed%20Data/Assignment%203/TDT4225_Assignment3/preprocessing/processing.ipynb#X10sZmlsZQ%3D%3D?line=0'>1</a>\u001b[0m \u001b[39mdef\u001b[39;00m \u001b[39mupload_batch\u001b[39m(json_list, collection_name):\n\u001b[0;32m      <a href='vscode-notebook-cell:/c%3A/Users/AHous/Programmieren/Uni/NTNU/TDT4225%20-%20Very%20Large%2C%20Distributed%20Data/Assignment%203/TDT4225_Assignment3/preprocessing/processing.ipynb#X10sZmlsZQ%3D%3D?line=1'>2</a>\u001b[0m     collection \u001b[39m=\u001b[39m db[collection_name]\n\u001b[1;32m----> <a href='vscode-notebook-cell:/c%3A/Users/AHous/Programmieren/Uni/NTNU/TDT4225%20-%20Very%20Large%2C%20Distributed%20Data/Assignment%203/TDT4225_Assignment3/preprocessing/processing.ipynb#X10sZmlsZQ%3D%3D?line=2'>3</a>\u001b[0m     \u001b[39mreturn\u001b[39;00m collection\u001b[39m.\u001b[39;49minsert_many(json_list)\u001b[39m.\u001b[39minserted_ids\n",
      "File \u001b[1;32mc:\\Users\\AHous\\Programmieren\\Uni\\NTNU\\TDT4225 - Very Large, Distributed Data\\Assignment 3\\TDT4225_Assignment3\\.venv\\lib\\site-packages\\pymongo\\_csot.py:108\u001b[0m, in \u001b[0;36mapply.<locals>.csot_wrapper\u001b[1;34m(self, *args, **kwargs)\u001b[0m\n\u001b[0;32m    106\u001b[0m         \u001b[39mwith\u001b[39;00m _TimeoutContext(timeout):\n\u001b[0;32m    107\u001b[0m             \u001b[39mreturn\u001b[39;00m func(\u001b[39mself\u001b[39m, \u001b[39m*\u001b[39margs, \u001b[39m*\u001b[39m\u001b[39m*\u001b[39mkwargs)\n\u001b[1;32m--> 108\u001b[0m \u001b[39mreturn\u001b[39;00m func(\u001b[39mself\u001b[39m, \u001b[39m*\u001b[39margs, \u001b[39m*\u001b[39m\u001b[39m*\u001b[39mkwargs)\n",
      "File \u001b[1;32mc:\\Users\\AHous\\Programmieren\\Uni\\NTNU\\TDT4225 - Very Large, Distributed Data\\Assignment 3\\TDT4225_Assignment3\\.venv\\lib\\site-packages\\pymongo\\collection.py:757\u001b[0m, in \u001b[0;36mCollection.insert_many\u001b[1;34m(self, documents, ordered, bypass_document_validation, session, comment)\u001b[0m\n\u001b[0;32m    755\u001b[0m blk \u001b[39m=\u001b[39m _Bulk(\u001b[39mself\u001b[39m, ordered, bypass_document_validation, comment\u001b[39m=\u001b[39mcomment)\n\u001b[0;32m    756\u001b[0m blk\u001b[39m.\u001b[39mops \u001b[39m=\u001b[39m \u001b[39mlist\u001b[39m(gen())\n\u001b[1;32m--> 757\u001b[0m blk\u001b[39m.\u001b[39;49mexecute(write_concern, session\u001b[39m=\u001b[39;49msession)\n\u001b[0;32m    758\u001b[0m \u001b[39mreturn\u001b[39;00m InsertManyResult(inserted_ids, write_concern\u001b[39m.\u001b[39macknowledged)\n",
      "File \u001b[1;32mc:\\Users\\AHous\\Programmieren\\Uni\\NTNU\\TDT4225 - Very Large, Distributed Data\\Assignment 3\\TDT4225_Assignment3\\.venv\\lib\\site-packages\\pymongo\\bulk.py:580\u001b[0m, in \u001b[0;36m_Bulk.execute\u001b[1;34m(self, write_concern, session)\u001b[0m\n\u001b[0;32m    578\u001b[0m         \u001b[39mreturn\u001b[39;00m \u001b[39mNone\u001b[39;00m\n\u001b[0;32m    579\u001b[0m \u001b[39melse\u001b[39;00m:\n\u001b[1;32m--> 580\u001b[0m     \u001b[39mreturn\u001b[39;00m \u001b[39mself\u001b[39;49m\u001b[39m.\u001b[39;49mexecute_command(generator, write_concern, session)\n",
      "File \u001b[1;32mc:\\Users\\AHous\\Programmieren\\Uni\\NTNU\\TDT4225 - Very Large, Distributed Data\\Assignment 3\\TDT4225_Assignment3\\.venv\\lib\\site-packages\\pymongo\\bulk.py:447\u001b[0m, in \u001b[0;36m_Bulk.execute_command\u001b[1;34m(self, generator, write_concern, session)\u001b[0m\n\u001b[0;32m    445\u001b[0m client \u001b[39m=\u001b[39m \u001b[39mself\u001b[39m\u001b[39m.\u001b[39mcollection\u001b[39m.\u001b[39mdatabase\u001b[39m.\u001b[39mclient\n\u001b[0;32m    446\u001b[0m \u001b[39mwith\u001b[39;00m client\u001b[39m.\u001b[39m_tmp_session(session) \u001b[39mas\u001b[39;00m s:\n\u001b[1;32m--> 447\u001b[0m     client\u001b[39m.\u001b[39;49m_retry_with_session(\u001b[39mself\u001b[39;49m\u001b[39m.\u001b[39;49mis_retryable, retryable_bulk, s, \u001b[39mself\u001b[39;49m)\n\u001b[0;32m    449\u001b[0m \u001b[39mif\u001b[39;00m full_result[\u001b[39m\"\u001b[39m\u001b[39mwriteErrors\u001b[39m\u001b[39m\"\u001b[39m] \u001b[39mor\u001b[39;00m full_result[\u001b[39m\"\u001b[39m\u001b[39mwriteConcernErrors\u001b[39m\u001b[39m\"\u001b[39m]:\n\u001b[0;32m    450\u001b[0m     _raise_bulk_write_error(full_result)\n",
      "File \u001b[1;32mc:\\Users\\AHous\\Programmieren\\Uni\\NTNU\\TDT4225 - Very Large, Distributed Data\\Assignment 3\\TDT4225_Assignment3\\.venv\\lib\\site-packages\\pymongo\\mongo_client.py:1413\u001b[0m, in \u001b[0;36mMongoClient._retry_with_session\u001b[1;34m(self, retryable, func, session, bulk)\u001b[0m\n\u001b[0;32m   1403\u001b[0m \u001b[39m\u001b[39m\u001b[39m\"\"\"Execute an operation with at most one consecutive retries\u001b[39;00m\n\u001b[0;32m   1404\u001b[0m \n\u001b[0;32m   1405\u001b[0m \u001b[39mReturns func()'s return value on success. On error retries the same\u001b[39;00m\n\u001b[1;32m   (...)\u001b[0m\n\u001b[0;32m   1408\u001b[0m \u001b[39mRe-raises any exception thrown by func().\u001b[39;00m\n\u001b[0;32m   1409\u001b[0m \u001b[39m\"\"\"\u001b[39;00m\n\u001b[0;32m   1410\u001b[0m retryable \u001b[39m=\u001b[39m \u001b[39mbool\u001b[39m(\n\u001b[0;32m   1411\u001b[0m     retryable \u001b[39mand\u001b[39;00m \u001b[39mself\u001b[39m\u001b[39m.\u001b[39moptions\u001b[39m.\u001b[39mretry_writes \u001b[39mand\u001b[39;00m session \u001b[39mand\u001b[39;00m \u001b[39mnot\u001b[39;00m session\u001b[39m.\u001b[39min_transaction\n\u001b[0;32m   1412\u001b[0m )\n\u001b[1;32m-> 1413\u001b[0m \u001b[39mreturn\u001b[39;00m \u001b[39mself\u001b[39;49m\u001b[39m.\u001b[39;49m_retry_internal(retryable, func, session, bulk)\n",
      "File \u001b[1;32mc:\\Users\\AHous\\Programmieren\\Uni\\NTNU\\TDT4225 - Very Large, Distributed Data\\Assignment 3\\TDT4225_Assignment3\\.venv\\lib\\site-packages\\pymongo\\_csot.py:108\u001b[0m, in \u001b[0;36mapply.<locals>.csot_wrapper\u001b[1;34m(self, *args, **kwargs)\u001b[0m\n\u001b[0;32m    106\u001b[0m         \u001b[39mwith\u001b[39;00m _TimeoutContext(timeout):\n\u001b[0;32m    107\u001b[0m             \u001b[39mreturn\u001b[39;00m func(\u001b[39mself\u001b[39m, \u001b[39m*\u001b[39margs, \u001b[39m*\u001b[39m\u001b[39m*\u001b[39mkwargs)\n\u001b[1;32m--> 108\u001b[0m \u001b[39mreturn\u001b[39;00m func(\u001b[39mself\u001b[39m, \u001b[39m*\u001b[39margs, \u001b[39m*\u001b[39m\u001b[39m*\u001b[39mkwargs)\n",
      "File \u001b[1;32mc:\\Users\\AHous\\Programmieren\\Uni\\NTNU\\TDT4225 - Very Large, Distributed Data\\Assignment 3\\TDT4225_Assignment3\\.venv\\lib\\site-packages\\pymongo\\mongo_client.py:1460\u001b[0m, in \u001b[0;36mMongoClient._retry_internal\u001b[1;34m(self, retryable, func, session, bulk)\u001b[0m\n\u001b[0;32m   1458\u001b[0m                 \u001b[39mraise\u001b[39;00m last_error\n\u001b[0;32m   1459\u001b[0m             retryable \u001b[39m=\u001b[39m \u001b[39mFalse\u001b[39;00m\n\u001b[1;32m-> 1460\u001b[0m         \u001b[39mreturn\u001b[39;00m func(session, conn, retryable)\n\u001b[0;32m   1461\u001b[0m \u001b[39mexcept\u001b[39;00m ServerSelectionTimeoutError:\n\u001b[0;32m   1462\u001b[0m     \u001b[39mif\u001b[39;00m is_retrying():\n\u001b[0;32m   1463\u001b[0m         \u001b[39m# The application may think the write was never attempted\u001b[39;00m\n\u001b[0;32m   1464\u001b[0m         \u001b[39m# if we raise ServerSelectionTimeoutError on the retry\u001b[39;00m\n\u001b[0;32m   1465\u001b[0m         \u001b[39m# attempt. Raise the original exception instead.\u001b[39;00m\n",
      "File \u001b[1;32mc:\\Users\\AHous\\Programmieren\\Uni\\NTNU\\TDT4225 - Very Large, Distributed Data\\Assignment 3\\TDT4225_Assignment3\\.venv\\lib\\site-packages\\pymongo\\bulk.py:435\u001b[0m, in \u001b[0;36m_Bulk.execute_command.<locals>.retryable_bulk\u001b[1;34m(session, conn, retryable)\u001b[0m\n\u001b[0;32m    432\u001b[0m \u001b[39mdef\u001b[39;00m \u001b[39mretryable_bulk\u001b[39m(\n\u001b[0;32m    433\u001b[0m     session: Optional[ClientSession], conn: Connection, retryable: \u001b[39mbool\u001b[39m\n\u001b[0;32m    434\u001b[0m ) \u001b[39m-\u001b[39m\u001b[39m>\u001b[39m \u001b[39mNone\u001b[39;00m:\n\u001b[1;32m--> 435\u001b[0m     \u001b[39mself\u001b[39;49m\u001b[39m.\u001b[39;49m_execute_command(\n\u001b[0;32m    436\u001b[0m         generator,\n\u001b[0;32m    437\u001b[0m         write_concern,\n\u001b[0;32m    438\u001b[0m         session,\n\u001b[0;32m    439\u001b[0m         conn,\n\u001b[0;32m    440\u001b[0m         op_id,\n\u001b[0;32m    441\u001b[0m         retryable,\n\u001b[0;32m    442\u001b[0m         full_result,\n\u001b[0;32m    443\u001b[0m     )\n",
      "File \u001b[1;32mc:\\Users\\AHous\\Programmieren\\Uni\\NTNU\\TDT4225 - Very Large, Distributed Data\\Assignment 3\\TDT4225_Assignment3\\.venv\\lib\\site-packages\\pymongo\\bulk.py:381\u001b[0m, in \u001b[0;36m_Bulk._execute_command\u001b[1;34m(self, generator, write_concern, session, conn, op_id, retryable, full_result, final_write_concern)\u001b[0m\n\u001b[0;32m    379\u001b[0m \u001b[39m# Run as many ops as possible in one command.\u001b[39;00m\n\u001b[0;32m    380\u001b[0m \u001b[39mif\u001b[39;00m write_concern\u001b[39m.\u001b[39macknowledged:\n\u001b[1;32m--> 381\u001b[0m     result, to_send \u001b[39m=\u001b[39m bwc\u001b[39m.\u001b[39;49mexecute(cmd, ops, client)\n\u001b[0;32m    383\u001b[0m     \u001b[39m# Retryable writeConcernErrors halt the execution of this run.\u001b[39;00m\n\u001b[0;32m    384\u001b[0m     wce \u001b[39m=\u001b[39m result\u001b[39m.\u001b[39mget(\u001b[39m\"\u001b[39m\u001b[39mwriteConcernError\u001b[39m\u001b[39m\"\u001b[39m, {})\n",
      "File \u001b[1;32mc:\\Users\\AHous\\Programmieren\\Uni\\NTNU\\TDT4225 - Very Large, Distributed Data\\Assignment 3\\TDT4225_Assignment3\\.venv\\lib\\site-packages\\pymongo\\message.py:967\u001b[0m, in \u001b[0;36m_BulkWriteContext.execute\u001b[1;34m(self, cmd, docs, client)\u001b[0m\n\u001b[0;32m    963\u001b[0m \u001b[39mdef\u001b[39;00m \u001b[39mexecute\u001b[39m(\n\u001b[0;32m    964\u001b[0m     \u001b[39mself\u001b[39m, cmd: MutableMapping[\u001b[39mstr\u001b[39m, Any], docs: List[Mapping[\u001b[39mstr\u001b[39m, Any]], client: MongoClient\n\u001b[0;32m    965\u001b[0m ) \u001b[39m-\u001b[39m\u001b[39m>\u001b[39m Tuple[Mapping[\u001b[39mstr\u001b[39m, Any], List[Mapping[\u001b[39mstr\u001b[39m, Any]]]:\n\u001b[0;32m    966\u001b[0m     request_id, msg, to_send \u001b[39m=\u001b[39m \u001b[39mself\u001b[39m\u001b[39m.\u001b[39m__batch_command(cmd, docs)\n\u001b[1;32m--> 967\u001b[0m     result \u001b[39m=\u001b[39m \u001b[39mself\u001b[39;49m\u001b[39m.\u001b[39;49mwrite_command(cmd, request_id, msg, to_send)\n\u001b[0;32m    968\u001b[0m     client\u001b[39m.\u001b[39m_process_response(result, \u001b[39mself\u001b[39m\u001b[39m.\u001b[39msession)\n\u001b[0;32m    969\u001b[0m     \u001b[39mreturn\u001b[39;00m result, to_send\n",
      "File \u001b[1;32mc:\\Users\\AHous\\Programmieren\\Uni\\NTNU\\TDT4225 - Very Large, Distributed Data\\Assignment 3\\TDT4225_Assignment3\\.venv\\lib\\site-packages\\pymongo\\helpers.py:315\u001b[0m, in \u001b[0;36m_handle_reauth.<locals>.inner\u001b[1;34m(*args, **kwargs)\u001b[0m\n\u001b[0;32m    312\u001b[0m \u001b[39mfrom\u001b[39;00m \u001b[39mpymongo\u001b[39;00m\u001b[39m.\u001b[39;00m\u001b[39mpool\u001b[39;00m \u001b[39mimport\u001b[39;00m Connection\n\u001b[0;32m    314\u001b[0m \u001b[39mtry\u001b[39;00m:\n\u001b[1;32m--> 315\u001b[0m     \u001b[39mreturn\u001b[39;00m func(\u001b[39m*\u001b[39margs, \u001b[39m*\u001b[39m\u001b[39m*\u001b[39mkwargs)\n\u001b[0;32m    316\u001b[0m \u001b[39mexcept\u001b[39;00m OperationFailure \u001b[39mas\u001b[39;00m exc:\n\u001b[0;32m    317\u001b[0m     \u001b[39mif\u001b[39;00m no_reauth:\n",
      "File \u001b[1;32mc:\\Users\\AHous\\Programmieren\\Uni\\NTNU\\TDT4225 - Very Large, Distributed Data\\Assignment 3\\TDT4225_Assignment3\\.venv\\lib\\site-packages\\pymongo\\message.py:1061\u001b[0m, in \u001b[0;36m_BulkWriteContext.write_command\u001b[1;34m(self, cmd, request_id, msg, docs)\u001b[0m\n\u001b[0;32m   1059\u001b[0m     start \u001b[39m=\u001b[39m datetime\u001b[39m.\u001b[39mdatetime\u001b[39m.\u001b[39mnow()\n\u001b[0;32m   1060\u001b[0m \u001b[39mtry\u001b[39;00m:\n\u001b[1;32m-> 1061\u001b[0m     reply \u001b[39m=\u001b[39m \u001b[39mself\u001b[39;49m\u001b[39m.\u001b[39;49mconn\u001b[39m.\u001b[39;49mwrite_command(request_id, msg, \u001b[39mself\u001b[39;49m\u001b[39m.\u001b[39;49mcodec)\n\u001b[0;32m   1062\u001b[0m     \u001b[39mif\u001b[39;00m \u001b[39mself\u001b[39m\u001b[39m.\u001b[39mpublish:\n\u001b[0;32m   1063\u001b[0m         duration \u001b[39m=\u001b[39m (datetime\u001b[39m.\u001b[39mdatetime\u001b[39m.\u001b[39mnow() \u001b[39m-\u001b[39m start) \u001b[39m+\u001b[39m duration\n",
      "File \u001b[1;32mc:\\Users\\AHous\\Programmieren\\Uni\\NTNU\\TDT4225 - Very Large, Distributed Data\\Assignment 3\\TDT4225_Assignment3\\.venv\\lib\\site-packages\\pymongo\\pool.py:1019\u001b[0m, in \u001b[0;36mConnection.write_command\u001b[1;34m(self, request_id, msg, codec_options)\u001b[0m\n\u001b[0;32m   1008\u001b[0m \u001b[39mdef\u001b[39;00m \u001b[39mwrite_command\u001b[39m(\n\u001b[0;32m   1009\u001b[0m     \u001b[39mself\u001b[39m, request_id: \u001b[39mint\u001b[39m, msg: \u001b[39mbytes\u001b[39m, codec_options: CodecOptions\n\u001b[0;32m   1010\u001b[0m ) \u001b[39m-\u001b[39m\u001b[39m>\u001b[39m Dict[\u001b[39mstr\u001b[39m, Any]:\n\u001b[0;32m   1011\u001b[0m \u001b[39m    \u001b[39m\u001b[39m\"\"\"Send \"insert\" etc. command, returning response as a dict.\u001b[39;00m\n\u001b[0;32m   1012\u001b[0m \n\u001b[0;32m   1013\u001b[0m \u001b[39m    Can raise ConnectionFailure or OperationFailure.\u001b[39;00m\n\u001b[1;32m   (...)\u001b[0m\n\u001b[0;32m   1017\u001b[0m \u001b[39m      - `msg`: bytes, the command message.\u001b[39;00m\n\u001b[0;32m   1018\u001b[0m \u001b[39m    \"\"\"\u001b[39;00m\n\u001b[1;32m-> 1019\u001b[0m     \u001b[39mself\u001b[39;49m\u001b[39m.\u001b[39;49msend_message(msg, \u001b[39m0\u001b[39;49m)\n\u001b[0;32m   1020\u001b[0m     reply \u001b[39m=\u001b[39m \u001b[39mself\u001b[39m\u001b[39m.\u001b[39mreceive_message(request_id)\n\u001b[0;32m   1021\u001b[0m     result \u001b[39m=\u001b[39m reply\u001b[39m.\u001b[39mcommand_response(codec_options)\n",
      "File \u001b[1;32mc:\\Users\\AHous\\Programmieren\\Uni\\NTNU\\TDT4225 - Very Large, Distributed Data\\Assignment 3\\TDT4225_Assignment3\\.venv\\lib\\site-packages\\pymongo\\pool.py:976\u001b[0m, in \u001b[0;36mConnection.send_message\u001b[1;34m(self, message, max_doc_size)\u001b[0m\n\u001b[0;32m    974\u001b[0m     \u001b[39mself\u001b[39m\u001b[39m.\u001b[39mconn\u001b[39m.\u001b[39msendall(message)\n\u001b[0;32m    975\u001b[0m \u001b[39mexcept\u001b[39;00m \u001b[39mBaseException\u001b[39;00m \u001b[39mas\u001b[39;00m error:\n\u001b[1;32m--> 976\u001b[0m     \u001b[39mself\u001b[39;49m\u001b[39m.\u001b[39;49m_raise_connection_failure(error)\n",
      "File \u001b[1;32mc:\\Users\\AHous\\Programmieren\\Uni\\NTNU\\TDT4225 - Very Large, Distributed Data\\Assignment 3\\TDT4225_Assignment3\\.venv\\lib\\site-packages\\pymongo\\pool.py:974\u001b[0m, in \u001b[0;36mConnection.send_message\u001b[1;34m(self, message, max_doc_size)\u001b[0m\n\u001b[0;32m    968\u001b[0m     \u001b[39mraise\u001b[39;00m DocumentTooLarge(\n\u001b[0;32m    969\u001b[0m         \u001b[39m\"\u001b[39m\u001b[39mBSON document too large (\u001b[39m\u001b[39m%d\u001b[39;00m\u001b[39m bytes) - the connected server \u001b[39m\u001b[39m\"\u001b[39m\n\u001b[0;32m    970\u001b[0m         \u001b[39m\"\u001b[39m\u001b[39msupports BSON document sizes up to \u001b[39m\u001b[39m%d\u001b[39;00m\u001b[39m bytes.\u001b[39m\u001b[39m\"\u001b[39m \u001b[39m%\u001b[39m (max_doc_size, \u001b[39mself\u001b[39m\u001b[39m.\u001b[39mmax_bson_size)\n\u001b[0;32m    971\u001b[0m     )\n\u001b[0;32m    973\u001b[0m \u001b[39mtry\u001b[39;00m:\n\u001b[1;32m--> 974\u001b[0m     \u001b[39mself\u001b[39;49m\u001b[39m.\u001b[39;49mconn\u001b[39m.\u001b[39;49msendall(message)\n\u001b[0;32m    975\u001b[0m \u001b[39mexcept\u001b[39;00m \u001b[39mBaseException\u001b[39;00m \u001b[39mas\u001b[39;00m error:\n\u001b[0;32m    976\u001b[0m     \u001b[39mself\u001b[39m\u001b[39m.\u001b[39m_raise_connection_failure(error)\n",
      "\u001b[1;31mKeyboardInterrupt\u001b[0m: "
     ]
    }
   ],
   "source": [
    "drop_coll(collection_name='User')\n",
    "drop_coll(collection_name='Activity')\n",
    "drop_coll(collection_name='TrackPoint')\n",
    "create_coll(collection_name='User')\n",
    "create_coll(collection_name='Activity')\n",
    "create_coll(collection_name='TrackPoint')\n",
    "\n",
    "all_users = get_all_user_data(os.path.join(dataset_base_path, 'Data'))\n",
    "upload_batch(collection_name='User', json_list=all_users)\n",
    "\n",
    "current_activity_id = 0\n",
    "for user in os.listdir(os.path.join(dataset_base_path, 'Data')):\n",
    "    print(\"User\", user)\n",
    "    base_path = os.path.join(dataset_base_path, 'Data', user)\n",
    "    labels_exists = os.path.exists(os.path.join(base_path, 'labels.txt'))\n",
    "    if labels_exists:\n",
    "        df_labels = get_labels_as_df(os.path.join(base_path, 'labels.txt'))\n",
    "    for activity in os.listdir(os.path.join(base_path, 'Trajectory')):\n",
    "        path_activity = os.path.join(base_path,'Trajectory',activity)\n",
    "        df_trackpoints = get_trackpoints_as_df(path_activity)\n",
    "        if activity_df.shape[0] <= 2500:\n",
    "            start_time = df_trackpoints.head(1).values[0][0]\n",
    "            end_time = df_trackpoints.tail(1).values[0][0]\n",
    "            transportation_label = ''\n",
    "            if labels_exists:\n",
    "                matching_row = df_labels.loc[(df_labels['Start Time'] == start_time) & ((df_labels['End Time']) == end_time)]\n",
    "                if matching_row.shape[0] > 0:\n",
    "                    transportation_label = matching_row.values[0][2]\n",
    "            \n",
    "            \n",
    "            df_trackpoints.drop(columns=['date_time'], inplace=True)\n",
    "            df_trackpoints['user_id'] = user\n",
    "            df_trackpoints = df_trackpoints.reindex(columns=['user_id', 'Latitude', 'Longitude', 'Altitude', 'date_days', 'Date'])\n",
    "            inserted_batch_ids = upload_batch(collection_name='Activity', json_list=loads(df_trackpoints.to_json(orient=\"records\", date_format='iso')))\n",
    "\n",
    "            activity_json = {\n",
    "                'user_id': user,\n",
    "                'transportation_label': transportation_label,\n",
    "                'start_time': start_time.strftime('%Y-%m-%d %H:%M:%S'),\n",
    "                'end_time': end_time.strftime('%Y-%m-%d %H:%M:%S'),\n",
    "                'trackpoints': inserted_batch_ids\n",
    "            }\n",
    "            upload_single_activity(activity_json)\n",
    "            current_activity_id += 1"
   ]
  }
 ],
 "metadata": {
  "kernelspec": {
   "display_name": ".venv",
   "language": "python",
   "name": "python3"
  },
  "language_info": {
   "codemirror_mode": {
    "name": "ipython",
    "version": 3
   },
   "file_extension": ".py",
   "mimetype": "text/x-python",
   "name": "python",
   "nbconvert_exporter": "python",
   "pygments_lexer": "ipython3",
   "version": "3.9.5"
  }
 },
 "nbformat": 4,
 "nbformat_minor": 2
}
