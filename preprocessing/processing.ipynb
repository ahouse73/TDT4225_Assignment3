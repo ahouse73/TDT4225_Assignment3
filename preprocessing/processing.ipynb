{
 "cells": [
  {
   "cell_type": "code",
   "execution_count": 20,
   "metadata": {},
   "outputs": [],
   "source": [
    "from DbConnector import DbConnector\n",
    "from decouple import config\n",
    "from upload_data import get_all_user_data"
   ]
  },
  {
   "cell_type": "code",
   "execution_count": 8,
   "metadata": {},
   "outputs": [
    {
     "name": "stdout",
     "output_type": "stream",
     "text": [
      "You are connected to the database: test_db\n",
      "-----------------------------------------------\n",
      "\n"
     ]
    }
   ],
   "source": [
    "connection = DbConnector(PASSWORD=config('USERPWD'))\n",
    "client = connection.client\n",
    "db = connection.db"
   ]
  },
  {
   "cell_type": "code",
   "execution_count": 21,
   "metadata": {},
   "outputs": [
    {
     "ename": "NameError",
     "evalue": "name 'dataset_base_path' is not defined",
     "output_type": "error",
     "traceback": [
      "\u001b[1;31m---------------------------------------------------------------------------\u001b[0m",
      "\u001b[1;31mNameError\u001b[0m                                 Traceback (most recent call last)",
      "\u001b[1;32mc:\\Users\\AHous\\Programmieren\\Uni\\NTNU\\TDT4225 - Very Large, Distributed Data\\Assignment 3\\TDT4225_Assignment3\\preprocessing\\processing.ipynb Cell 3\u001b[0m line \u001b[0;36m1\n\u001b[1;32m----> <a href='vscode-notebook-cell:/c%3A/Users/AHous/Programmieren/Uni/NTNU/TDT4225%20-%20Very%20Large%2C%20Distributed%20Data/Assignment%203/TDT4225_Assignment3/preprocessing/processing.ipynb#W3sZmlsZQ%3D%3D?line=0'>1</a>\u001b[0m users \u001b[39m=\u001b[39m get_all_user_data(\u001b[39m'\u001b[39;49m\u001b[39mdataset/dataset/Data\u001b[39;49m\u001b[39m'\u001b[39;49m)\n",
      "File \u001b[1;32mc:\\Users\\AHous\\Programmieren\\Uni\\NTNU\\TDT4225 - Very Large, Distributed Data\\Assignment 3\\TDT4225_Assignment3\\preprocessing\\upload_data.py:55\u001b[0m, in \u001b[0;36mget_all_user_data\u001b[1;34m(data_path)\u001b[0m\n\u001b[0;32m     53\u001b[0m \u001b[39m# transform it in tuple with (id, has_labels) set has_labels to False for all\u001b[39;00m\n\u001b[0;32m     54\u001b[0m all_users \u001b[39m=\u001b[39m [(u, \u001b[39m0\u001b[39m) \u001b[39mfor\u001b[39;00m u \u001b[39min\u001b[39;00m all_users]\n\u001b[1;32m---> 55\u001b[0m \u001b[39mwith\u001b[39;00m \u001b[39mopen\u001b[39m(os\u001b[39m.\u001b[39mpath\u001b[39m.\u001b[39mjoin(dataset_base_path, \u001b[39m'\u001b[39m\u001b[39mlabeled_ids.txt\u001b[39m\u001b[39m'\u001b[39m)) \u001b[39mas\u001b[39;00m f:\n\u001b[0;32m     56\u001b[0m     \u001b[39mfor\u001b[39;00m line \u001b[39min\u001b[39;00m f\u001b[39m.\u001b[39mreadlines():\n\u001b[0;32m     57\u001b[0m         \u001b[39m# update all entries with idx in file to has_labels = True\u001b[39;00m\n\u001b[0;32m     58\u001b[0m         all_users[\u001b[39mint\u001b[39m(line\u001b[39m.\u001b[39mstrip())] \u001b[39m=\u001b[39m (all_users[\u001b[39mint\u001b[39m(line\u001b[39m.\u001b[39mstrip())][\u001b[39m0\u001b[39m], \u001b[39m1\u001b[39m)\n",
      "\u001b[1;31mNameError\u001b[0m: name 'dataset_base_path' is not defined"
     ]
    }
   ],
   "source": [
    "users = get_all_user_data('dataset/dataset/Data')"
   ]
  }
 ],
 "metadata": {
  "kernelspec": {
   "display_name": ".venv",
   "language": "python",
   "name": "python3"
  },
  "language_info": {
   "codemirror_mode": {
    "name": "ipython",
    "version": 3
   },
   "file_extension": ".py",
   "mimetype": "text/x-python",
   "name": "python",
   "nbconvert_exporter": "python",
   "pygments_lexer": "ipython3",
   "version": "3.9.5"
  }
 },
 "nbformat": 4,
 "nbformat_minor": 2
}
